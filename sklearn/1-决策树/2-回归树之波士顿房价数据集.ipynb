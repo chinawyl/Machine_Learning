{
 "cells": [
  {
   "cell_type": "code",
   "execution_count": 1,
   "metadata": {},
   "outputs": [],
   "source": [
    "from sklearn.datasets import load_boston\n",
    "from sklearn.model_selection import cross_val_score\n",
    "from sklearn.tree import DecisionTreeRegressor"
   ]
  },
  {
   "cell_type": "code",
   "execution_count": 2,
   "metadata": {},
   "outputs": [
    {
     "data": {
      "text/plain": [
       "array([-16.41568627, -10.61843137, -18.30176471, -55.36803922,\n",
       "       -16.01470588, -44.70117647, -12.2148    , -91.3888    ,\n",
       "       -57.764     , -36.8134    ])"
      ]
     },
     "execution_count": 2,
     "metadata": {},
     "output_type": "execute_result"
    }
   ],
   "source": [
    "#交叉验证cross_val_score的用法\n",
    "\n",
    "#返回R平方\n",
    "boston = load_boston()\n",
    "regressor = DecisionTreeRegressor(random_state=0)\n",
    "cross_val_score(regressor #模型，这里为回归\n",
    "                ,boston.data #完整数据集，回归为连续数据，不需要划分测试集与训练集\n",
    "                ,boston.target #完整标签\n",
    "                ,cv=10 #交叉验证，把数据分十份，将其中1份作为测试集，其余9份作为训练集，\n",
    "                ,scoring = \"neg_mean_squared_error\" #对于回归来说，填上为负均方误差，不填默认返回R平方\n",
    "               )"
   ]
  },
  {
   "cell_type": "code",
   "execution_count": 3,
   "metadata": {},
   "outputs": [
    {
     "data": {
      "text/plain": [
       "array([ 0.52939335,  0.60461936, -1.60907519,  0.4356399 ,  0.77280671,\n",
       "        0.40597035,  0.23656049,  0.38709149, -2.06488186, -0.95162992])"
      ]
     },
     "execution_count": 3,
     "metadata": {},
     "output_type": "execute_result"
    }
   ],
   "source": [
    "#返回负均方误差\n",
    "cross_val_score(regressor #模型，这里为回归\n",
    "                ,boston.data #完整数据集，回归为连续数据，不需要划分测试集与训练集\n",
    "                ,boston.target #完整标签\n",
    "                ,cv=10 #交叉验证，把数据分十份，将其中1份作为测试集，其余9份作为训练集，\n",
    "               )"
   ]
  },
  {
   "cell_type": "code",
   "execution_count": null,
   "metadata": {},
   "outputs": [],
   "source": []
  }
 ],
 "metadata": {
  "kernelspec": {
   "display_name": "Python 3",
   "language": "python",
   "name": "python3"
  },
  "language_info": {
   "codemirror_mode": {
    "name": "ipython",
    "version": 3
   },
   "file_extension": ".py",
   "mimetype": "text/x-python",
   "name": "python",
   "nbconvert_exporter": "python",
   "pygments_lexer": "ipython3",
   "version": "3.7.3"
  }
 },
 "nbformat": 4,
 "nbformat_minor": 2
}
