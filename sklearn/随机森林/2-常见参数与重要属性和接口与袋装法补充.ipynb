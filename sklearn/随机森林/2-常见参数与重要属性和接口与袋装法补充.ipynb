{
 "cells": [
  {
   "cell_type": "code",
   "execution_count": 1,
   "metadata": {},
   "outputs": [],
   "source": [
    "import numpy as np\n",
    "import pandas as pd\n",
    "from matplotlib import pyplot as plt\n",
    "from sklearn import datasets\n",
    "from sklearn import tree\n",
    "from sklearn import model_selection\n",
    "from sklearn import ensemble\n",
    "from scipy.special import comb"
   ]
  },
  {
   "cell_type": "code",
   "execution_count": 2,
   "metadata": {},
   "outputs": [],
   "source": [
    "# 常见参数\n",
    "\n",
    "\n"
   ]
  },
  {
   "cell_type": "code",
   "execution_count": 3,
   "metadata": {},
   "outputs": [
    {
     "data": {
      "image/png": "[encoded data removed]",
      "text/plain": [
       "<Figure size 432x288 with 1 Axes>"
      ]
     },
     "metadata": {
      "needs_background": "light"
     },
     "output_type": "display_data"
    }
   ],
   "source": [
    "# n_estimators\n",
    "wine = datasets.load_wine()\n",
    "\n",
    "clf = tree.DecisionTreeClassifier()\n",
    "clf_s = model_selection.cross_val_score(clf,wine.data,wine.target,cv=10)\n",
    "\n",
    "rfc = ensemble.RandomForestClassifier(n_estimators=25) #25颗树\n",
    "rfc_s = model_selection.cross_val_score(rfc,wine.data,wine.target,cv=10)\n",
    "\n",
    "plt.plot(range(1,11),rfc_s,label = \"RandomForest\")\n",
    "plt.plot(range(1,11),clf_s,label = \"Decision Tree\")\n",
    "plt.legend()\n",
    "plt.show()  "
   ]
  },
  {
   "cell_type": "code",
   "execution_count": 4,
   "metadata": {},
   "outputs": [
    {
     "name": "stdout",
     "output_type": "stream",
     "text": [
      "1872583848\n",
      "794921487\n",
      "111352301\n",
      "1853453896\n",
      "213298710\n",
      "1922988331\n",
      "1869695442\n",
      "2081981515\n",
      "1805465960\n",
      "1376693511\n",
      "1418777250\n",
      "663257521\n",
      "878959199\n",
      "854108747\n",
      "512264917\n",
      "515183663\n",
      "1287007039\n",
      "2083814687\n",
      "1146014426\n",
      "570104212\n"
     ]
    }
   ],
   "source": [
    "# random_state\n",
    "np.array([comb(25,i)*(0.2**i)*((1-0.2)**(25-i)) for i in range(13,26)]).sum()\n",
    "\n",
    "wine = datasets.load_wine()\n",
    "\n",
    "Xtrain, Xtest, Ytrain, Ytest = model_selection.train_test_split(wine.data,wine.target,test_size=0.3)\n",
    "\n",
    "rfc = ensemble.RandomForestClassifier(n_estimators=20,random_state=2)\n",
    "rfc = rfc.fit(Xtrain, Ytrain)\n",
    "#随机森林的重要属性之一：estimators，查看森林中树的状况\n",
    "rfc.estimators_[0].random_state\n",
    "for i in range(len(rfc.estimators_)):\n",
    "    print(rfc.estimators_[i].random_state)"
   ]
  },
  {
   "cell_type": "code",
   "execution_count": 5,
   "metadata": {},
   "outputs": [
    {
     "data": {
      "text/plain": [
       "0.9775280898876404"
      ]
     },
     "execution_count": 5,
     "metadata": {},
     "output_type": "execute_result"
    }
   ],
   "source": [
    "# bootstrap & oob_score\n",
    "#无需划分训练集和测试集\n",
    "\n",
    "rfc = ensemble.RandomForestClassifier(n_estimators=25,oob_score=True)\n",
    "rfc = rfc.fit(wine.data,wine.target)\n",
    "#重要属性oob_score_\n",
    "rfc.oob_score_"
   ]
  },
  {
   "cell_type": "code",
   "execution_count": 6,
   "metadata": {},
   "outputs": [],
   "source": [
    "# 重要属性和接口\n",
    "\n",
    "\n"
   ]
  },
  {
   "cell_type": "code",
   "execution_count": 7,
   "metadata": {},
   "outputs": [
    {
     "name": "stdout",
     "output_type": "stream",
     "text": [
      "1.0\n",
      "\n",
      "[0.12117457 0.01382747 0.02091079 0.0283498  0.01231472 0.07726826\n",
      " 0.1250134  0.02626877 0.03601296 0.21806318 0.1069266  0.08186786\n",
      " 0.13200161]\n",
      "\n",
      "[[14  9  5 ...  7  2 16]\n",
      " [ 7  2  1 ...  2  6  2]\n",
      " [ 3  2  1 ...  2  6  2]\n",
      " ...\n",
      " [11  2  1 ...  2  6 16]\n",
      " [11 15 12 ... 10 15 16]\n",
      " [11  2 12 ...  5  6 16]]\n",
      "\n",
      "[2 1 1 0 2 2 1 2 0 2 0 0 0 1 2 1 1 0 0 1 2 1 1 1 0 1 0 2 1 1 1 0 0 2 0 1 2\n",
      " 2 1 0 0 2 0 1 0 2 1 0 2 2 0 1 0 0]\n",
      "\n",
      "[[0.04 0.16 0.8 ]\n",
      " [0.   0.92 0.08]\n",
      " [0.   0.88 0.12]\n",
      " [0.96 0.   0.04]\n",
      " [0.   0.12 0.88]\n",
      " [0.   0.08 0.92]\n",
      " [0.16 0.8  0.04]\n",
      " [0.04 0.   0.96]\n",
      " [1.   0.   0.  ]\n",
      " [0.   0.   1.  ]\n",
      " [0.96 0.04 0.  ]\n",
      " [0.56 0.44 0.  ]\n",
      " [0.96 0.04 0.  ]\n",
      " [0.04 0.68 0.28]\n",
      " [0.   0.   1.  ]\n",
      " [0.   1.   0.  ]\n",
      " [0.   1.   0.  ]\n",
      " [0.96 0.04 0.  ]\n",
      " [0.6  0.32 0.08]\n",
      " [0.   1.   0.  ]\n",
      " [0.   0.28 0.72]\n",
      " [0.16 0.72 0.12]\n",
      " [0.2  0.72 0.08]\n",
      " [0.   1.   0.  ]\n",
      " [0.96 0.04 0.  ]\n",
      " [0.16 0.76 0.08]\n",
      " [0.96 0.04 0.  ]\n",
      " [0.12 0.16 0.72]\n",
      " [0.   0.92 0.08]\n",
      " [0.   1.   0.  ]\n",
      " [0.   1.   0.  ]\n",
      " [0.8  0.16 0.04]\n",
      " [0.96 0.04 0.  ]\n",
      " [0.12 0.12 0.76]\n",
      " [1.   0.   0.  ]\n",
      " [0.   1.   0.  ]\n",
      " [0.   0.2  0.8 ]\n",
      " [0.   0.08 0.92]\n",
      " [0.08 0.92 0.  ]\n",
      " [0.92 0.04 0.04]\n",
      " [0.72 0.28 0.  ]\n",
      " [0.   0.08 0.92]\n",
      " [0.8  0.12 0.08]\n",
      " [0.   0.68 0.32]\n",
      " [1.   0.   0.  ]\n",
      " [0.   0.   1.  ]\n",
      " [0.   1.   0.  ]\n",
      " [0.96 0.04 0.  ]\n",
      " [0.   0.32 0.68]\n",
      " [0.   0.08 0.92]\n",
      " [0.96 0.04 0.  ]\n",
      " [0.24 0.76 0.  ]\n",
      " [1.   0.   0.  ]\n",
      " [0.68 0.32 0.  ]]\n"
     ]
    }
   ],
   "source": [
    "rfc = ensemble.RandomForestClassifier(n_estimators=25)\n",
    "rfc = rfc.fit(Xtrain, Ytrain)\n",
    "print(rfc.score(Xtest,Ytest))\n",
    "print()\n",
    "print(rfc.feature_importances_)\n",
    "print()\n",
    "print(rfc.apply(Xtest))\n",
    "print()\n",
    "print(rfc.predict(Xtest))\n",
    "print()\n",
    "print(rfc.predict_proba(Xtest))"
   ]
  },
  {
   "cell_type": "code",
   "execution_count": 8,
   "metadata": {},
   "outputs": [
    {
     "data": {
      "image/png": "[encoded data removed]",
      "text/plain": [
       "<Figure size 432x288 with 1 Axes>"
      ]
     },
     "metadata": {
      "needs_background": "light"
     },
     "output_type": "display_data"
    },
    {
     "data": {
      "text/plain": [
       "'\\n当基分类器的误差率小于0.5，即准确率大于0.5时，集成的效果是比基分类器要好的。相反，\\n当基分类器的误差率大于0.5，袋装的集成算法就失效了。所以在使用随机森林之前，一定要检查，用来组成随机\\n森林的分类树们是否都有至少50%的预测正确率。\\n\\n'"
      ]
     },
     "execution_count": 8,
     "metadata": {},
     "output_type": "execute_result"
    }
   ],
   "source": [
    "# Bonus：Bagging的另一个必要条件\n",
    "import numpy as np\n",
    "\n",
    "x = np.linspace(0,1,20)\n",
    "y = []\n",
    "for epsilon in np.linspace(0,1,20):\n",
    "    E = np.array([comb(25,i)*(epsilon**i)*((1-epsilon)**(25-i))\n",
    "                  for i in range(13,26)]).sum()\n",
    "    y.append(E)\n",
    "plt.plot(x,y,\"o-\",label=\"when estimators are different\")\n",
    "plt.plot(x,x,\"--\",color=\"red\",label=\"if all estimators are same\")\n",
    "plt.xlabel(\"individual estimator's error\")\n",
    "plt.ylabel(\"RandomForest's error\")\n",
    "plt.legend()\n",
    "plt.savefig(\"./基分类器的误差率和随机森林的误差率.png\")\n",
    "plt.show()\n",
    "'''\n",
    "当基分类器的误差率小于0.5，即准确率大于0.5时，集成的效果是比基分类器要好的。相反，\n",
    "当基分类器的误差率大于0.5，袋装的集成算法就失效了。所以在使用随机森林之前，一定要检查，用来组成随机\n",
    "森林的分类树们是否都有至少50%的预测正确率。\n",
    "\n",
    "'''"
   ]
  },
  {
   "cell_type": "code",
   "execution_count": null,
   "metadata": {},
   "outputs": [],
   "source": []
  }
 ],
 "metadata": {
  "kernelspec": {
   "display_name": "Python 3",
   "language": "python",
   "name": "python3"
  },
  "language_info": {
   "codemirror_mode": {
    "name": "ipython",
    "version": 3
   },
   "file_extension": ".py",
   "mimetype": "text/x-python",
   "name": "python",
   "nbconvert_exporter": "python",
   "pygments_lexer": "ipython3",
   "version": "3.7.3"
  }
 },
 "nbformat": 4,
 "nbformat_minor": 2
}
