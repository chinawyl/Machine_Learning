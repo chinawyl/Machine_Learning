{
 "cells": [
  {
   "cell_type": "code",
   "execution_count": 1,
   "metadata": {},
   "outputs": [],
   "source": [
    "import numpy as np\n",
    "import pandas as pd\n",
    "import tensorflow as tf"
   ]
  },
  {
   "cell_type": "code",
   "execution_count": 2,
   "metadata": {},
   "outputs": [
    {
     "name": "stdout",
     "output_type": "stream",
     "text": [
      "tf.Tensor(\n",
      "[[0 1 2]\n",
      " [2 3 2]], shape=(2, 3), dtype=int32)\n",
      "tf.Tensor(\n",
      "[[0 1 2]\n",
      " [4 5 6]], shape=(2, 3), dtype=int32)\n",
      "tf.Tensor(\n",
      "[[0 1 2 0 1 2]\n",
      " [2 3 2 4 5 6]], shape=(2, 6), dtype=int32)\n",
      "tf.Tensor(\n",
      "[[0 1 2]\n",
      " [2 3 2]\n",
      " [0 1 2]\n",
      " [4 5 6]], shape=(4, 3), dtype=int32)\n",
      "\n",
      "(4, 22, 1)\n",
      "(4, 22, 8)\n",
      "(4, 22, 9)\n",
      "\n",
      "(2, 35, 8, 9)\n",
      "(35, 8, 9, 2)\n",
      "(35, 2, 8, 9)\n"
     ]
    }
   ],
   "source": [
    "# 一、合并\n",
    "\n",
    "# 1.拼接\n",
    "a1 = tf.constant([[0,1,2],[2,3,2]])\n",
    "a2 = tf.constant([[0,1,2],[4,5,6]])\n",
    "b1 = tf.concat([a1,a2],axis=1)\n",
    "b2 = tf.concat([a1,a2],axis=0)\n",
    "print(a1)\n",
    "print(a2)\n",
    "print(b1)\n",
    "print(b2)\n",
    "print()\n",
    "a = tf.random.normal([4,22,1]) # 模拟成绩册 A\n",
    "b = tf.random.normal([4,22,8]) # 模拟成绩册 B\n",
    "print(a.shape)\n",
    "print(b.shape)\n",
    "c = tf.concat([a,b],axis=2) # 拼接合并成绩册\n",
    "print(c.shape)\n",
    "print()\n",
    "\n",
    "# 2.堆叠\n",
    "a = tf.random.normal([35,8,9])\n",
    "b = tf.random.normal([35,8,9])\n",
    "c1 = tf.stack([a,b],axis=0)\n",
    "c2 = tf.stack([a,b],axis=-1)\n",
    "c3 = tf.stack([a,b],axis=1)\n",
    "print(c1.shape)\n",
    "print(c2.shape)\n",
    "print(c3.shape)"
   ]
  },
  {
   "cell_type": "code",
   "execution_count": 3,
   "metadata": {},
   "outputs": [
    {
     "name": "stdout",
     "output_type": "stream",
     "text": [
      "10\n",
      "(1, 35, 8)\n",
      "\n",
      "4\n",
      "(10, 35, 3)\n"
     ]
    }
   ],
   "source": [
    "# 二、分割\n",
    "\n",
    "# 1.等长切割为10份\n",
    "x = tf.random.normal([10,35,8])\n",
    "result = tf.split(x, num_or_size_splits=10, axis=0)\n",
    "print(len(result)) #返回的列表为10个张量的列表\n",
    "print(result[0].shape)\n",
    "print()\n",
    "\n",
    "# 2.任意分割为4份\n",
    "x = tf.random.normal([10,35,8])\n",
    "result = tf.split(x, num_or_size_splits=[1,2,3,2], axis=2)\n",
    "print(len(result)) #返回的列表为10个张量的列表\n",
    "print(result[2].shape)"
   ]
  },
  {
   "cell_type": "code",
   "execution_count": 4,
   "metadata": {},
   "outputs": [
    {
     "name": "stdout",
     "output_type": "stream",
     "text": [
      "tf.Tensor(4.0, shape=(), dtype=float32)\n",
      "tf.Tensor(2.0, shape=(), dtype=float32)\n",
      "tf.Tensor(1.0, shape=(), dtype=float32)\n",
      "\n",
      "tf.Tensor(\n",
      "[[-1.2268146  -1.0487142  -0.0996369 ]\n",
      " [-0.6973206   0.20476392  0.03961945]\n",
      " [-0.23555212 -1.9146347   2.0657573 ]\n",
      " [-0.66752005  0.38381675 -0.64654887]], shape=(4, 3), dtype=float32)\n",
      "tf.Tensor([-0.23555212  0.38381675  2.0657573 ], shape=(3,), dtype=float32)\n",
      "tf.Tensor([-1.2268146  -0.6973206  -1.9146347  -0.66752005], shape=(4,), dtype=float32)\n",
      "tf.Tensor([-0.23555212  0.38381675  2.0657573 ], shape=(3,), dtype=float32)\n",
      "tf.Tensor([-2.3751657  -0.45293722 -0.0844295  -0.9302522 ], shape=(4,), dtype=float32)\n",
      "tf.Tensor(2.0657573, shape=(), dtype=float32)\n"
     ]
    }
   ],
   "source": [
    "# 三、数据统计\n",
    "\n",
    "# 1.向量范数\n",
    "x = tf.ones([2,2])\n",
    "print(tf.norm(x,ord=1)) #计算L1范数\n",
    "print(tf.norm(x,ord=2) )#计算L2范数\n",
    "print(tf.norm(x,ord=np.inf)) #计算∞-范数\n",
    "print()\n",
    "\n",
    "# 2.最值、均值、和\n",
    "x = tf.random.normal([4,3])\n",
    "print(x)\n",
    "print(tf.reduce_max(x,axis=0))\n",
    "print(tf.reduce_min(x,axis=1))\n",
    "print(tf.reduce_max(x,axis=0))\n",
    "print(tf.reduce_sum(x,axis=-1))\n",
    "print(tf.reduce_max(x))"
   ]
  },
  {
   "cell_type": "code",
   "execution_count": 5,
   "metadata": {},
   "outputs": [
    {
     "name": "stdout",
     "output_type": "stream",
     "text": [
      "tf.Tensor([ True False False False False], shape=(5,), dtype=bool)\n",
      "\n",
      "tf.Tensor([1 3 1], shape=(3,), dtype=int64)\n",
      "\n",
      "[1 3 1]\n"
     ]
    }
   ],
   "source": [
    "# 四、张量比较\n",
    "# 1.比较相同元素\n",
    "a = tf.constant([1,3,5,7,9])\n",
    "b = tf.constant([1,2,4,6,8])\n",
    "out = tf.equal(a,b)\n",
    "print(out)\n",
    "print()\n",
    "\n",
    "# 2.tf.math.argmax（返回数组内最大值的索引）\n",
    "a = tf.constant([[7,12,2,4],\n",
    "                [3,1,7,8],\n",
    "                [11,15,2,5]])\n",
    "x = tf.argmax(a,axis=1)\n",
    "print(x)\n",
    "print()\n",
    "print(x.numpy())"
   ]
  },
  {
   "cell_type": "code",
   "execution_count": 6,
   "metadata": {},
   "outputs": [
    {
     "name": "stdout",
     "output_type": "stream",
     "text": [
      "tf.Tensor([1 2 3 4 5 6], shape=(6,), dtype=int32)\n",
      "tf.Tensor([7 8 1 6 0 0], shape=(6,), dtype=int32)\n",
      "tf.Tensor(\n",
      "[[1 2 3 4 5 6]\n",
      " [7 8 1 6 0 0]], shape=(2, 6), dtype=int32)\n",
      "\n",
      "(4, 32, 32, 3)\n",
      "(8, 96, 96, 3)\n"
     ]
    }
   ],
   "source": [
    "# 五、填充与复制\n",
    "# 1.填充\n",
    "a = tf.constant([1,2,3,4,5,6]) # 第一个句子\n",
    "b = tf.constant([7,8,1,6]) # 第二个句子\n",
    "b = tf.pad(b, [[0,2]]) # 句子末尾填充2个0\n",
    "print(a)\n",
    "print(b) # 填充后的结果\n",
    "print(tf.stack([a,b],axis=0))\n",
    "print()\n",
    "\n",
    "# 2.复制\n",
    "x = tf.random.normal([4,32,32,3])\n",
    "print(x.shape)\n",
    "print(tf.tile(x,[2,3,3,1]).shape)"
   ]
  },
  {
   "cell_type": "code",
   "execution_count": 7,
   "metadata": {},
   "outputs": [
    {
     "name": "stdout",
     "output_type": "stream",
     "text": [
      "tf.Tensor([0 1 2 3 4 5 6 7 8], shape=(9,), dtype=int32)\n",
      "tf.Tensor([2 2 2 3 4 5 6 7 8], shape=(9,), dtype=int32)\n",
      "tf.Tensor([0 1 2 3 4 5 6 7 7], shape=(9,), dtype=int32)\n",
      "\n",
      "tf.Tensor([ 0  1  2  3  4  5  6  7  8  9 10 11], shape=(12,), dtype=int32)\n",
      "tf.Tensor([2 2 2 3 4 5 6 7 7 7 7 7], shape=(12,), dtype=int32)\n",
      "tf.Tensor([2 2 2 3 4 5 6 7 7 7 7 7], shape=(12,), dtype=int32)\n"
     ]
    }
   ],
   "source": [
    "# 六、数据限幅\n",
    "\n",
    "# 1.上或下限幅\n",
    "x = tf.range(9)\n",
    "print(x)\n",
    "print(tf.maximum(x,2)) # 下限幅到 2\n",
    "print(tf.minimum(x,7)) # 上限幅到 7\n",
    "print()\n",
    "      \n",
    "# 2.上下限幅\n",
    "x = tf.range(12)\n",
    "print(x)\n",
    "print(tf.minimum(tf.maximum(x,2),7)) # 限幅为 2~7\n",
    "#简便方法\n",
    "print(tf.clip_by_value(x,2,7)) # 限幅为 2~7"
   ]
  },
  {
   "cell_type": "code",
   "execution_count": null,
   "metadata": {},
   "outputs": [],
   "source": []
  }
 ],
 "metadata": {
  "kernelspec": {
   "display_name": "Python 3",
   "language": "python",
   "name": "python3"
  },
  "language_info": {
   "codemirror_mode": {
    "name": "ipython",
    "version": 3
   },
   "file_extension": ".py",
   "mimetype": "text/x-python",
   "name": "python",
   "nbconvert_exporter": "python",
   "pygments_lexer": "ipython3",
   "version": "3.7.3"
  }
 },
 "nbformat": 4,
 "nbformat_minor": 2
}
