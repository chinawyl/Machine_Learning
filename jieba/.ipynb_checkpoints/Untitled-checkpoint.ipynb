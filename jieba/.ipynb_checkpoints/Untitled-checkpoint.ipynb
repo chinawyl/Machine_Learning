{
 "cells": [
  {
   "cell_type": "code",
   "execution_count": 1,
   "metadata": {},
   "outputs": [],
   "source": [
    "# 导入 jieba\n",
    "import jieba\n",
    "import jieba.posseg as pseg #词性标注\n",
    "import jieba.analyse as anls #关键词提取"
   ]
  },
  {
   "cell_type": "code",
   "execution_count": 3,
   "metadata": {},
   "outputs": [
    {
     "name": "stdout",
     "output_type": "stream",
     "text": [
      "全模式：他/ 来到/ 上海/ 上海交通大学/ 交通/ 大学\n"
     ]
    }
   ],
   "source": [
    "seg_list = jieba.cut(\"他来到上海交通大学\", cut_all=True)\n",
    "print(\"全模式：\" + \"/ \".join(seg_list))  "
   ]
  },
  {
   "cell_type": "code",
   "execution_count": 4,
   "metadata": {},
   "outputs": [
    {
     "name": "stdout",
     "output_type": "stream",
     "text": [
      "精准模式：他/ 来到/ 上海交通大学\n"
     ]
    }
   ],
   "source": [
    "seg_list = jieba.cut(\"他来到上海交通大学\", cut_all=False)\n",
    "print(\"精准模式：\" + \"/ \".join(seg_list))  "
   ]
  },
  {
   "cell_type": "code",
   "execution_count": 5,
   "metadata": {},
   "outputs": [
    {
     "name": "stdout",
     "output_type": "stream",
     "text": [
      "返回列表：['他', '来到', '上海', '上海交通大学', '交通', '大学']\n"
     ]
    }
   ],
   "source": [
    "seg_list = jieba.lcut(\"他来到上海交通大学\", cut_all=True)\n",
    "print(\"返回列表：{0}\".format(seg_list))"
   ]
  },
  {
   "cell_type": "code",
   "execution_count": 6,
   "metadata": {},
   "outputs": [
    {
     "name": "stdout",
     "output_type": "stream",
     "text": [
      "返回列表：['他', '来到', '上海交通大学']\n"
     ]
    }
   ],
   "source": [
    "seg_list = jieba.lcut(\"他来到上海交通大学\", cut_all=False)\n",
    "print(\"返回列表：{0}\".format(seg_list))"
   ]
  },
  {
   "cell_type": "code",
   "execution_count": null,
   "metadata": {},
   "outputs": [],
   "source": []
  }
 ],
 "metadata": {
  "kernelspec": {
   "display_name": "Python 3",
   "language": "python",
   "name": "python3"
  },
  "language_info": {
   "codemirror_mode": {
    "name": "ipython",
    "version": 3
   },
   "file_extension": ".py",
   "mimetype": "text/x-python",
   "name": "python",
   "nbconvert_exporter": "python",
   "pygments_lexer": "ipython3",
   "version": "3.7.3"
  }
 },
 "nbformat": 4,
 "nbformat_minor": 2
}
