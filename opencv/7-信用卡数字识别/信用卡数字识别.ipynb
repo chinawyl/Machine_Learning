{
 "cells": [
  {
   "cell_type": "code",
   "execution_count": 9,
   "metadata": {},
   "outputs": [],
   "source": [
    "from imutils import contours\n",
    "import numpy as np\n",
    "import argparse\n",
    "import imutils\n",
    "import cv2\n",
    "import myutils"
   ]
  },
  {
   "cell_type": "code",
   "execution_count": 14,
   "metadata": {},
   "outputs": [],
   "source": [
    "def cv_show(name,img):\n",
    "    cv2.imshow(name,img)\n",
    "    cv2.waitKey(0)\n",
    "    cv2.destroyAllWindows()"
   ]
  },
  {
   "cell_type": "code",
   "execution_count": 20,
   "metadata": {},
   "outputs": [],
   "source": [
    "# 读取一个模板图像\n",
    "img = cv2.imread('../0-Datas/images/ocr_a_reference.png')\n",
    "cv_show('img',img)\n",
    "# 灰度图\n",
    "ref = cv2.cvtColor(img, cv2.COLOR_BGR2GRAY)\n",
    "cv_show('ref',ref)\n",
    "# 二值图像\n",
    "ref = cv2.threshold(ref, 10, 255, cv2.THRESH_BINARY_INV) #超过阈值部分取0，否则取maxval\n",
    "cv_show('ref',ref)"
   ]
  },
  {
   "cell_type": "code",
   "execution_count": 32,
   "metadata": {},
   "outputs": [
    {
     "name": "stdout",
     "output_type": "stream",
     "text": [
      "(10,)\n"
     ]
    }
   ],
   "source": [
    "# 计算轮廓\n",
    "#cv2.findContours()接受的参数为二值图，即黑白的（不是灰度图）,cv2.RETR_EXTERNAL只检测外轮廓，cv2.CHAIN_APPROX_SIMPLE只保留终点坐标\n",
    "refCnts, hierarchy = cv2.findContours(ref.copy(), cv2.RETR_EXTERNAL,cv2.CHAIN_APPROX_SIMPLE) #refCnts:轮廓点，hierarchy:层级\n",
    "\n",
    "# 绘制轮廓\n",
    "cv2.drawContours(img,refCnts,-1,(0,0,255),3) #会改变原图\n",
    "cv_show('img',img)\n",
    "print (np.array(refCnts).shape)\n",
    "\n",
    "# 排序轮廓\n",
    "refCnts = myutils.sort_contours(refCnts, method=\"left-to-right\")[0] #排序，从左到右，从上到下\n",
    "digits = {}\n",
    "\n",
    "# 遍历每一个轮廓\n",
    "for (i, c) in enumerate(refCnts):\n",
    "    # 计算外接矩形并且resize成合适大小\n",
    "    (x, y, w, h) = cv2.boundingRect(c)\n",
    "    roi = ref[y:y + h, x:x + w]\n",
    "    roi = cv2.resize(roi, (57, 88))\n",
    "\n",
    "    # 每一个数字对应每一个模板\n",
    "    digits[i] = roi"
   ]
  },
  {
   "cell_type": "code",
   "execution_count": 34,
   "metadata": {},
   "outputs": [],
   "source": [
    "# 初始化卷积核\n",
    "rectKernel = cv2.getStructuringElement(cv2.MORPH_RECT, (9, 3))\n",
    "sqKernel = cv2.getStructuringElement(cv2.MORPH_RECT, (5, 5))"
   ]
  },
  {
   "cell_type": "code",
   "execution_count": 35,
   "metadata": {},
   "outputs": [
    {
     "name": "stdout",
     "output_type": "stream",
     "text": [
      "(189, 300)\n"
     ]
    }
   ],
   "source": [
    "#读取输入图像，预处理\n",
    "image = cv2.imread('../0-Datas/images/credit_card_01.png')\n",
    "cv_show('image',image)\n",
    "image = myutils.resize(image, width=300)\n",
    "gray = cv2.cvtColor(image, cv2.COLOR_BGR2GRAY)\n",
    "cv_show('gray',gray)\n",
    "\n",
    "#礼帽操作，突出更明亮的区域\n",
    "tophat = cv2.morphologyEx(gray, cv2.MORPH_TOPHAT, rectKernel) \n",
    "cv_show('tophat',tophat) \n",
    "\n",
    "#Sobel算子 \n",
    "gradX = cv2.Sobel(tophat, ddepth=cv2.CV_32F, dx=1, dy=0,ksize=-1) #ksize=-1相当于用3*3的\n",
    "gradX = np.absolute(gradX) #计算绝对值\n",
    "\n",
    "(minVal, maxVal) = (np.min(gradX), np.max(gradX)) #计算最大最小值\n",
    "gradX = (255 * ((gradX - minVal) / (maxVal - minVal)))\n",
    "gradX = gradX.astype(\"uint8\")\n",
    "\n",
    "print (np.array(gradX).shape)\n",
    "cv_show('gradX',gradX)"
   ]
  },
  {
   "cell_type": "code",
   "execution_count": 36,
   "metadata": {},
   "outputs": [],
   "source": [
    "#通过闭操作（先膨胀，再腐蚀）将数字连在一起\n",
    "gradX = cv2.morphologyEx(gradX, cv2.MORPH_CLOSE, rectKernel) \n",
    "cv_show('gradX',gradX)\n",
    "\n",
    "#THRESH_OTSU会自动寻找合适的阈值，适合双峰，需把阈值参数设置为0\n",
    "thresh = cv2.threshold(gradX, 0, 255,\n",
    "cv2.THRESH_BINARY | cv2.THRESH_OTSU)[1] \n",
    "cv_show('thresh',thresh)\n",
    "\n",
    "#再来一个闭操作\n",
    "thresh = cv2.morphologyEx(thresh, cv2.MORPH_CLOSE, sqKernel) #再来一个闭操作\n",
    "cv_show('thresh',thresh)"
   ]
  },
  {
   "cell_type": "code",
   "execution_count": 38,
   "metadata": {},
   "outputs": [],
   "source": [
    "# 计算轮廓\n",
    "\n",
    "threshCnts, hierarchy = cv2.findContours(thresh.copy(), cv2.RETR_EXTERNAL,cv2.CHAIN_APPROX_SIMPLE)\n",
    "\n",
    "cnts = threshCnts\n",
    "cur_img = image.copy()\n",
    "cv2.drawContours(cur_img,cnts,-1,(0,0,255),3) \n",
    "cv_show('img',cur_img)\n",
    "locs = []\n",
    "\n",
    "# 遍历轮廓\n",
    "for (i, c) in enumerate(cnts):\n",
    "    # 计算矩形\n",
    "    (x, y, w, h) = cv2.boundingRect(c)\n",
    "    ar = w / float(h)\n",
    "\n",
    "    # 选择合适的区域，根据实际任务来，这里的基本都是四个数字一组\n",
    "    if ar > 2.5 and ar < 4.0:\n",
    "\n",
    "        if (w > 40 and w < 55) and (h > 10 and h < 20):\n",
    "            #符合的留下来\n",
    "            locs.append((x, y, w, h))\n",
    "# 将符合的轮廓从左到右排序\n",
    "locs = sorted(locs, key=lambda x:x[0])\n",
    "output = []"
   ]
  },
  {
   "cell_type": "code",
   "execution_count": 41,
   "metadata": {},
   "outputs": [],
   "source": [
    "# 遍历每一个轮廓中的数字\n",
    "for (i, (gX, gY, gW, gH)) in enumerate(locs):\n",
    "    # initialize the list of group digits\n",
    "    groupOutput = []\n",
    "\n",
    "    # 根据坐标提取每一个组\n",
    "    group = gray[gY - 5:gY + gH + 5, gX - 5:gX + gW + 5]\n",
    "    cv_show('group',group)\n",
    "    # 预处理\n",
    "    group = cv2.threshold(group, 0, 255,\n",
    "        cv2.THRESH_BINARY | cv2.THRESH_OTSU)[1]\n",
    "    cv_show('group',group)\n",
    "    # 计算每一组的轮廓\n",
    "    digitCnts,hierarchy = cv2.findContours(group.copy(), cv2.RETR_EXTERNAL,cv2.CHAIN_APPROX_SIMPLE)\n",
    "    digitCnts = contours.sort_contours(digitCnts,\n",
    "        method=\"left-to-right\")[0]\n",
    "\n",
    "    # 计算每一组中的每一个数值\n",
    "    for c in digitCnts:\n",
    "        # 找到当前数值的轮廓，resize成合适的的大小\n",
    "        (x, y, w, h) = cv2.boundingRect(c)\n",
    "        roi = group[y:y + h, x:x + w]\n",
    "        roi = cv2.resize(roi, (57, 88))\n",
    "        cv_show('roi',roi)\n",
    "\n",
    "        \n",
    "        \n",
    "        # 计算匹配得分\n",
    "        scores = []\n",
    "\n",
    "        # 在模板中计算每一个得分\n",
    "        for (digit, digitROI) in digits.items():\n",
    "            # 模板匹配\n",
    "            result = cv2.matchTemplate(roi, digitROI,\n",
    "                cv2.TM_CCOEFF)\n",
    "            (_, score, _, _) = cv2.minMaxLoc(result)\n",
    "            scores.append(score)\n",
    "\n",
    "        # 得到最合适的数字\n",
    "        groupOutput.append(str(np.argmax(scores)))\n",
    "\n",
    "    # 画出来\n",
    "    cv2.rectangle(image, (gX - 5, gY - 5),\n",
    "        (gX + gW + 5, gY + gH + 5), (0, 0, 255), 1)\n",
    "    cv2.putText(image, \"\".join(groupOutput), (gX, gY - 15),\n",
    "        cv2.FONT_HERSHEY_SIMPLEX, 0.65, (0, 0, 255), 2)\n",
    "\n",
    "    # 得到结果\n",
    "    output.extend(groupOutput)"
   ]
  },
  {
   "cell_type": "code",
   "execution_count": 43,
   "metadata": {},
   "outputs": [
    {
     "name": "stdout",
     "output_type": "stream",
     "text": [
      "Credit Card #: 40001234567890104000123456789010\n"
     ]
    },
    {
     "data": {
      "text/plain": [
       "-1"
      ]
     },
     "execution_count": 43,
     "metadata": {},
     "output_type": "execute_result"
    }
   ],
   "source": [
    "# 打印结果\n",
    "print(\"Credit Card #: {}\".format(\"\".join(output)))\n",
    "cv2.imshow(\"Image\", image)\n",
    "cv2.waitKey(0)"
   ]
  },
  {
   "cell_type": "code",
   "execution_count": null,
   "metadata": {},
   "outputs": [],
   "source": []
  }
 ],
 "metadata": {
  "kernelspec": {
   "display_name": "Python 3",
   "language": "python",
   "name": "python3"
  },
  "language_info": {
   "codemirror_mode": {
    "name": "ipython",
    "version": 3
   },
   "file_extension": ".py",
   "mimetype": "text/x-python",
   "name": "python",
   "nbconvert_exporter": "python",
   "pygments_lexer": "ipython3",
   "version": "3.7.3"
  }
 },
 "nbformat": 4,
 "nbformat_minor": 2
}
