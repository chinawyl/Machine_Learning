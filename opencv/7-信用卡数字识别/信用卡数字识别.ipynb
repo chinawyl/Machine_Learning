{
 "cells": [
  {
   "cell_type": "code",
   "execution_count": 1,
   "metadata": {},
   "outputs": [],
   "source": [
    "# 导入工具包\n",
    "import cv2\n",
    "import myutils\n",
    "import numpy as np\n",
    "from imutils import contours"
   ]
  },
  {
   "cell_type": "code",
   "execution_count": 2,
   "metadata": {},
   "outputs": [],
   "source": [
    "# 绘图展示\n",
    "def cv_show(name,img):\n",
    "    cv2.imshow(name, img)\n",
    "    cv2.waitKey(0)\n",
    "    cv2.destroyAllWindows()"
   ]
  },
  {
   "cell_type": "markdown",
   "metadata": {},
   "source": [
    "### 模板处理"
   ]
  },
  {
   "cell_type": "code",
   "execution_count": 4,
   "metadata": {},
   "outputs": [],
   "source": [
    "# 读取一个模板图像\n",
    "img = cv2.imread('./images/ocr_a_reference.png')\n",
    "\n",
    "# 灰度图\n",
    "gray = cv2.cvtColor(img,cv2.COLOR_BGR2GRAY)\n",
    "\n",
    "# 二值图像\n",
    "ref = cv2.threshold(gray,10,255,cv2.THRESH_BINARY_INV)[1]\n",
    "\n",
    "# 计算轮廓\n",
    "#cv2.findContours()函数接受的参数为二值图，即黑白的（不是灰度图）,cv2.RETR_EXTERNAL只检测外轮廓，cv2.CHAIN_APPROX_SIMPLE只保留终点坐标\n",
    "#返回的list中每个元素都是图像中的一个轮廓\n",
    "ref_, refCnts, hierarchy = cv2.findContours(ref.copy(), cv2.RETR_EXTERNAL,cv2.CHAIN_APPROX_SIMPLE)\n",
    "\n",
    "cv2.drawContours(img,refCnts,-1,(0,0,255),3) \n",
    "refCnts = myutils.sort_contours(refCnts, method=\"left-to-right\")[0] #排序，从左到右，从上到下，返回四个值，只需要x即可比较\n",
    "digits = {}\n",
    "\n",
    "# 遍历每一个轮廓\n",
    "for (i,c) in enumerate(refCnts):\n",
    "    x,y,w,h = cv2.boundingRect(c)\n",
    "    roi = ref[y:y+h,x:x+w]\n",
    "    roi = cv2.resize(roi,(57,88))\n",
    "    digits[i] = roi"
   ]
  },
  {
   "cell_type": "markdown",
   "metadata": {},
   "source": [
    "### 银行卡片处理"
   ]
  },
  {
   "cell_type": "code",
   "execution_count": 5,
   "metadata": {},
   "outputs": [],
   "source": [
    "# 初始化卷积核\n",
    "rectKernel = cv2.getStructuringElement(cv2.MORPH_RECT, (9, 3))\n",
    "sqKernel = cv2.getStructuringElement(cv2.MORPH_RECT, (5, 5))\n",
    "\n",
    "# 读取输入图像，预处理\n",
    "image = cv2.imread('./images/credit_card_01.png')\n",
    "\n",
    "# 更改尺寸与灰度图处理\n",
    "image = myutils.resize(image, width=300)\n",
    "gray = cv2.cvtColor(image, cv2.COLOR_BGR2GRAY)\n",
    "\n",
    "# 礼帽操作(使之更加明亮)\n",
    "tophat = cv2.morphologyEx(gray,cv2.MORPH_TOPHAT,rectKernel)\n",
    "\n",
    "# Sobel算子\n",
    "gradX = cv2.Sobel(tophat, ddepth=cv2.CV_32F, dx=1, dy=0, ksize=-1)\n",
    "\n",
    "# 求绝对值(等价于gradX = cv2.convertScaleAbs(grad))\n",
    "gradX = np.absolute(gradX) #求绝对值\n",
    "(minVal, maxVal) = (np.min(gradX), np.max(gradX))\n",
    "gradX = (255 * ((gradX - minVal) / (maxVal - minVal)))\n",
    "gradX = gradX.astype(\"uint8\")\n",
    "\n",
    "# 通过闭操作（先膨胀，再腐蚀）将数字连在一起\n",
    "gradX = cv2.morphologyEx(gradX, cv2.MORPH_CLOSE, rectKernel) \n",
    "\n",
    "# THRESH_OTSU会自动寻找合适的阈值，适合双峰，需把阈值参数设置为0\n",
    "thresh = cv2.threshold(gradX, 0, 255, cv2.THRESH_BINARY | cv2.THRESH_OTSU)[1]\n",
    "\n",
    "# 再来一个闭操作\n",
    "thresh = cv2.morphologyEx(thresh, cv2.MORPH_CLOSE, sqKernel) #再来一个闭操作\n",
    "\n",
    "# 计算轮廓\n",
    "thresh_, threshCnts, hierarchy = cv2.findContours(thresh.copy(), cv2.RETR_EXTERNAL, cv2.CHAIN_APPROX_SIMPLE)\n",
    "cnts = threshCnts\n",
    "cur_img = gray.copy()\n",
    "cv2.drawContours(cur_img,cnts,-1,(0,0,255),3) \n",
    "\n",
    "# 遍历轮廓\n",
    "locs = []\n",
    "for (i, c) in enumerate(cnts):\n",
    "    # 计算矩形\n",
    "    (x, y, w, h) = cv2.boundingRect(c)\n",
    "    ar = w / float(h)\n",
    "    # 选择合适的区域，根据实际任务来，这里的基本都是四个数字一组\n",
    "    if ar > 2.5 and ar < 4.0:\n",
    "        if (w > 40 and w < 55) and (h > 10 and h < 20):\n",
    "            #符合的留下来\n",
    "            locs.append((x, y, w, h))\n",
    "\n",
    "# 将符合的轮廓从左到右排序\n",
    "locs = sorted(locs, key=lambda x:x[0])\n",
    "\n",
    "# 遍历每一个轮廓中的数字\n",
    "output = []\n",
    "# 遍历每一个轮廓中的数字\n",
    "for (i, (gX, gY, gW, gH)) in enumerate(locs):\n",
    "    groupOutput = []\n",
    "\n",
    "    # 根据坐标提取每一个组\n",
    "    group = gray[gY - 5:gY + gH + 5, gX - 5:gX + gW + 5]\n",
    "\n",
    "    # 预处理\n",
    "    group = cv2.threshold(group, 0, 255, cv2.THRESH_BINARY | cv2.THRESH_OTSU)[1]\n",
    "\n",
    "    # 计算每一组的轮廓\n",
    "    group_,digitCnts,hierarchy = cv2.findContours(group.copy(), cv2.RETR_EXTERNAL, cv2.CHAIN_APPROX_SIMPLE)\n",
    "    digitCnts = myutils.sort_contours(digitCnts, method=\"left-to-right\")[0]\n",
    "\n",
    "    # 计算每一组中的每一个数值\n",
    "    for c in digitCnts:\n",
    "        # 找到当前数值的轮廓，resize成合适的的大小\n",
    "        (x, y, w, h) = cv2.boundingRect(c)\n",
    "        roi = group[y:y + h, x:x + w]\n",
    "        roi = cv2.resize(roi, (57, 88))\n",
    "\n",
    "        # 计算匹配得分\n",
    "        scores = []\n",
    "\n",
    "        # 在模板中计算每一个得分\n",
    "        for (digit, digitROI) in digits.items():\n",
    "            # 模板匹配\n",
    "            result = cv2.matchTemplate(roi, digitROI, cv2.TM_CCOEFF)\n",
    "            (_, score, _, _) = cv2.minMaxLoc(result)\n",
    "            \n",
    "            scores.append(score)\n",
    "\n",
    "        # 得到最合适的数字\n",
    "        groupOutput.append(str(np.argmax(scores)))\n",
    "\n",
    "    # 画出来\n",
    "    cv2.rectangle(image, (gX - 5, gY - 5), (gX + gW + 5, gY + gH + 5), (0, 0, 255), 1)\n",
    "    cv2.putText(image, \"\".join(groupOutput), (gX, gY - 15), cv2.FONT_HERSHEY_SIMPLEX, 0.65, (0, 0, 255), 2)\n",
    "\n",
    "    # 得到结果\n",
    "    output.extend(groupOutput)"
   ]
  },
  {
   "cell_type": "markdown",
   "metadata": {},
   "source": [
    "### 打印结果"
   ]
  },
  {
   "cell_type": "code",
   "execution_count": 6,
   "metadata": {},
   "outputs": [
    {
     "data": {
      "text/plain": [
       "-1"
      ]
     },
     "execution_count": 6,
     "metadata": {},
     "output_type": "execute_result"
    }
   ],
   "source": [
    "\n",
    "cv2.imshow(\"Image\", image)\n",
    "cv2.waitKey(0)"
   ]
  },
  {
   "cell_type": "code",
   "execution_count": null,
   "metadata": {},
   "outputs": [],
   "source": []
  }
 ],
 "metadata": {
  "kernelspec": {
   "display_name": "Python 3",
   "language": "python",
   "name": "python3"
  },
  "language_info": {
   "codemirror_mode": {
    "name": "ipython",
    "version": 3
   },
   "file_extension": ".py",
   "mimetype": "text/x-python",
   "name": "python",
   "nbconvert_exporter": "python",
   "pygments_lexer": "ipython3",
   "version": "3.7.0"
  }
 },
 "nbformat": 4,
 "nbformat_minor": 2
}
