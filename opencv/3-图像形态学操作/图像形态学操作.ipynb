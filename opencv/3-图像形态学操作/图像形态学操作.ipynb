{
 "cells": [
  {
   "cell_type": "code",
   "execution_count": 12,
   "metadata": {},
   "outputs": [],
   "source": [
    "import cv2\n",
    "import numpy as np\n",
    "import pandas as pd\n",
    "import matplotlib.pyplot as plt\n",
    "plt.rcParams['font.sans-serif'] = ['SimHei']\n",
    "plt.rcParams['axes.unicode_minus'] = False"
   ]
  },
  {
   "cell_type": "markdown",
   "metadata": {},
   "source": [
    "# 形态学-腐蚀操作\n",
    "<br>"
   ]
  },
  {
   "cell_type": "code",
   "execution_count": 13,
   "metadata": {},
   "outputs": [],
   "source": [
    "img = cv2.imread('./images/001.png')\n",
    "\n",
    "cv2.imshow('img',img)\n",
    "cv2.waitKey(0)\n",
    "cv2.destroyAllWindows()"
   ]
  },
  {
   "cell_type": "code",
   "execution_count": 14,
   "metadata": {},
   "outputs": [],
   "source": [
    "kernel = np.ones((5,5),np.uint8) #5*5的卷积内核,如果有白色的部分那就腐蚀掉，相当于比原来少一个内圈\n",
    "erosion = cv2.erode(img,kernel,iterations=1) #迭代一次\n",
    "\n",
    "cv2.imshow('erosion',erosion)\n",
    "cv2.waitKey(0)\n",
    "cv2.destroyAllWindows()"
   ]
  },
  {
   "cell_type": "code",
   "execution_count": 15,
   "metadata": {},
   "outputs": [],
   "source": [
    "#腐蚀操作合并对比\n",
    "kernel = np.ones((5,5),np.uint8)\n",
    "erosion_1 = cv2.erode(img,kernel,iterations=1)\n",
    "erosion_2 = cv2.erode(img,kernel,iterations=2)\n",
    "erosion_3 = cv2.erode(img,kernel,iterations=3)\n",
    "res = np.hstack((img,erosion_1,erosion_2,erosion_3))\n",
    "\n",
    "cv2.imshow('res',res)\n",
    "cv2.waitKey(0)\n",
    "cv2.destroyAllWindows()"
   ]
  },
  {
   "cell_type": "markdown",
   "metadata": {},
   "source": [
    "# 形态学-膨胀操作\n",
    "<br>"
   ]
  },
  {
   "cell_type": "code",
   "execution_count": 16,
   "metadata": {},
   "outputs": [],
   "source": [
    "img = cv2.imread('./images/001.png')\n",
    "\n",
    "cv2.imshow('img',img)\n",
    "cv2.waitKey(0)\n",
    "cv2.destroyAllWindows()"
   ]
  },
  {
   "cell_type": "code",
   "execution_count": 17,
   "metadata": {},
   "outputs": [],
   "source": [
    "#膨胀对比\n",
    "kernel = np.ones((5,5),np.uint8) #5*5的卷积内核,如果有白色的部分那就膨胀\n",
    "dilate_1 = cv2.dilate(img,kernel,iterations=1)\n",
    "dilate_2 = cv2.dilate(img,kernel,iterations=1)\n",
    "dilate_3 = cv2.dilate(img,kernel,iterations=1)\n",
    "\n",
    "res = np.hstack((img,dilate_1,dilate_2,dilate_3))\n",
    "cv2.imshow('res',res)\n",
    "cv2.waitKey(0)\n",
    "cv2.destroyAllWindows()"
   ]
  },
  {
   "cell_type": "markdown",
   "metadata": {},
   "source": [
    "# 开运算与闭运算\n",
    "<br>"
   ]
  },
  {
   "cell_type": "code",
   "execution_count": 18,
   "metadata": {},
   "outputs": [],
   "source": [
    "#开:先腐蚀，再膨胀\n",
    "img = cv2.imread('./images/001.png')\n",
    "\n",
    "kernel = np.ones((5,5),np.uint8)\n",
    "opening = cv2.morphologyEx(img,cv2.MORPH_OPEN,kernel)\n",
    "\n",
    "res = np.hstack((img,opening))\n",
    "cv2.imshow('res',res)\n",
    "cv2.waitKey(0)\n",
    "cv2.destroyAllWindows()"
   ]
  },
  {
   "cell_type": "code",
   "execution_count": 19,
   "metadata": {},
   "outputs": [],
   "source": [
    "#闭:先膨胀，再腐蚀\n",
    "img = cv2.imread('./images/001.png')\n",
    "\n",
    "kernel = np.ones((5,5),np.uint8)\n",
    "closeing = cv2.morphologyEx(img,cv2.MORPH_CLOSE,kernel)\n",
    "\n",
    "res = np.hstack((img,closeing))\n",
    "cv2.imshow('res',res)\n",
    "cv2.waitKey(0)\n",
    "cv2.destroyAllWindows()"
   ]
  },
  {
   "cell_type": "markdown",
   "metadata": {},
   "source": [
    "# 梯度运算\n",
    "<br>"
   ]
  },
  {
   "cell_type": "code",
   "execution_count": 21,
   "metadata": {},
   "outputs": [],
   "source": [
    "#膨胀-腐蚀\n",
    "img = cv2.imread('./images/001.png')\n",
    "kernel = np.ones((5,5),np.uint8)\n",
    "erosion = cv2.erode(img,kernel,iterations=1)\n",
    "dilate = cv2.dilate(img,kernel,iterations=1)\n",
    "\n",
    "gradient = cv2.morphologyEx(img,cv2.MORPH_GRADIENT,kernel)\n",
    "\n",
    "res = np.hstack((erosion,dilate,gradient))\n",
    "cv2.imshow('res',res)\n",
    "cv2.waitKey(0)\n",
    "cv2.destroyAllWindows()"
   ]
  },
  {
   "cell_type": "markdown",
   "metadata": {},
   "source": [
    "# 礼帽与黑帽\n",
    "<br>\n",
    "礼帽&ensp;=&ensp;原始输入-开运算计算\n",
    "<br>\n",
    "黑帽&ensp;=&ensp;闭运算-原始输入"
   ]
  },
  {
   "cell_type": "code",
   "execution_count": 23,
   "metadata": {},
   "outputs": [],
   "source": [
    "#礼帽\n",
    "img = cv2.imread('./images/001.png')\n",
    "\n",
    "kernel = np.ones((5,5),np.uint8)\n",
    "tophat = cv2.morphologyEx(img,cv2.MORPH_TOPHAT,kernel)\n",
    "\n",
    "res = np.hstack((img,tophat))\n",
    "cv2.imshow('res',res)\n",
    "cv2.waitKey(0)\n",
    "cv2.destroyAllWindows()"
   ]
  },
  {
   "cell_type": "code",
   "execution_count": 24,
   "metadata": {},
   "outputs": [],
   "source": [
    "#黑帽\n",
    "img = cv2.imread('./images/001.png')\n",
    "\n",
    "kernel = np.ones((5,5),np.uint8)\n",
    "tophat = cv2.morphologyEx(img,cv2.MORPH_BLACKHAT,kernel)\n",
    "\n",
    "res = np.hstack((img,tophat))\n",
    "cv2.imshow('res',res)\n",
    "cv2.waitKey(0)\n",
    "cv2.destroyAllWindows()"
   ]
  },
  {
   "cell_type": "code",
   "execution_count": null,
   "metadata": {},
   "outputs": [],
   "source": []
  }
 ],
 "metadata": {
  "kernelspec": {
   "display_name": "Python 3",
   "language": "python",
   "name": "python3"
  },
  "language_info": {
   "codemirror_mode": {
    "name": "ipython",
    "version": 3
   },
   "file_extension": ".py",
   "mimetype": "text/x-python",
   "name": "python",
   "nbconvert_exporter": "python",
   "pygments_lexer": "ipython3",
   "version": "3.7.3"
  }
 },
 "nbformat": 4,
 "nbformat_minor": 2
}
