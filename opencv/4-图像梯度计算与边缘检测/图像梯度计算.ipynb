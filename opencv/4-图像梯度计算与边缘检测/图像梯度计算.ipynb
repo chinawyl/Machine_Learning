{
 "cells": [
  {
   "cell_type": "code",
   "execution_count": 1,
   "metadata": {},
   "outputs": [],
   "source": [
    "import cv2\n",
    "import numpy as np\n",
    "import pandas as pd\n",
    "import matplotlib.pyplot as plt\n",
    "plt.rcParams['font.sans-serif'] = ['SimHei']\n",
    "plt.rcParams['axes.unicode_minus'] = False"
   ]
  },
  {
   "cell_type": "markdown",
   "metadata": {},
   "source": [
    "# 图形梯度-Sobel算子\n",
    "<br>"
   ]
  },
  {
   "cell_type": "code",
   "execution_count": 2,
   "metadata": {},
   "outputs": [],
   "source": [
    "def cv2_show(name,img):\n",
    "    cv2.imshow(name,img)\n",
    "    cv2.waitKey(0)\n",
    "    cv2.destroyAllWindows()"
   ]
  },
  {
   "cell_type": "code",
   "execution_count": 3,
   "metadata": {},
   "outputs": [],
   "source": [
    "img = cv2.imread('./images/001.jpg')\n",
    "\n",
    "cv2_show('img',img)"
   ]
  },
  {
   "cell_type": "code",
   "execution_count": 4,
   "metadata": {},
   "outputs": [],
   "source": [
    "#计算x\n",
    "\n",
    "\n"
   ]
  },
  {
   "cell_type": "code",
   "execution_count": 5,
   "metadata": {},
   "outputs": [],
   "source": [
    "#右边减左边，白到黑是正数，黑到白是负数\n",
    "sobelx = cv2.Sobel(img,cv2.CV_64F,1,0,ksize=3) #cv2.CV_64F：图像深度，ksize：算子大小\n",
    "\n",
    "cv2_show('sobelx',sobelx)"
   ]
  },
  {
   "cell_type": "code",
   "execution_count": 6,
   "metadata": {},
   "outputs": [],
   "source": [
    "#求绝对值（所有负数会被截断为0）\n",
    "sobelx = cv2.Sobel(img,cv2.CV_64F,1,0,ksize=3)\n",
    "sobelx = cv2.convertScaleAbs(sobelx)\n",
    "\n",
    "cv2_show('sobelx',sobelx)"
   ]
  },
  {
   "cell_type": "code",
   "execution_count": 7,
   "metadata": {},
   "outputs": [],
   "source": [
    "#计算y\n",
    "\n",
    "\n"
   ]
  },
  {
   "cell_type": "code",
   "execution_count": 8,
   "metadata": {},
   "outputs": [],
   "source": [
    "#上边减下边，白到黑是正数，黑到白是负数\n",
    "sobely = cv2.Sobel(img,cv2.CV_64F,0,1,ksize=3)\n",
    "\n",
    "cv2_show('sobely',sobely)"
   ]
  },
  {
   "cell_type": "code",
   "execution_count": 9,
   "metadata": {},
   "outputs": [],
   "source": [
    "#求绝对值\n",
    "sobely = cv2.Sobel(img,cv2.CV_64F,0,1,ksize=3)\n",
    "sobely = cv2.convertScaleAbs(sobely)\n",
    "\n",
    "cv2_show('sobely',sobely)"
   ]
  },
  {
   "cell_type": "code",
   "execution_count": 10,
   "metadata": {},
   "outputs": [],
   "source": [
    "#求和x与y\n",
    "\n",
    "\n"
   ]
  },
  {
   "cell_type": "code",
   "execution_count": 11,
   "metadata": {},
   "outputs": [],
   "source": [
    "#分别计算\n",
    "sobelxy1 = cv2.addWeighted(sobelx,0.5,sobely,0.5,0) #0.5:权重，0默认设置\n",
    "cv2_show('sobelxy1',sobelxy1)"
   ]
  },
  {
   "cell_type": "code",
   "execution_count": 12,
   "metadata": {},
   "outputs": [],
   "source": [
    "#直接计算（不推荐）\n",
    "sobelxy2 = cv2.Sobel(img,cv2.CV_64F,1,1,ksize=3)\n",
    "sobelxy2 = cv2.convertScaleAbs(sobelxy2)\n",
    "cv2_show('sobelxy2',sobelxy2)"
   ]
  },
  {
   "cell_type": "markdown",
   "metadata": {},
   "source": [
    "# 图像梯度-Scharr算子\n",
    "<br>"
   ]
  },
  {
   "cell_type": "code",
   "execution_count": 13,
   "metadata": {},
   "outputs": [],
   "source": [
    "img = cv2.imread('./images/001.jpg')\n",
    "\n",
    "scarrx = cv2.Scharr(img,cv2.CV_64F,1,0)\n",
    "scarry = cv2.Scharr(img,cv2.CV_64F,0,1)\n",
    "scarrx = cv2.convertScaleAbs(scarrx)\n",
    "scarry = cv2.convertScaleAbs(scarry)\n",
    "scarrxy = cv2.addWeighted(scarrx,0.5,scarry,0.5,0)\n",
    "\n",
    "cv2_show('scarrxy',scarrxy)"
   ]
  },
  {
   "cell_type": "markdown",
   "metadata": {},
   "source": [
    "# 图像梯度-laplacian算子\n",
    "<br>"
   ]
  },
  {
   "cell_type": "code",
   "execution_count": 14,
   "metadata": {},
   "outputs": [],
   "source": [
    "img = cv2.imread('./images/001.jpg')\n",
    "\n",
    "laplacian = cv2.Laplacian(img,cv2.CV_64F)\n",
    "laplacian = cv2.convertScaleAbs(laplacian)\n",
    "\n",
    "cv2_show('laplacian',laplacian)"
   ]
  },
  {
   "cell_type": "markdown",
   "metadata": {},
   "source": [
    "# 算子对比\n",
    "<br>\n",
    "Scharr算子更丰富\n",
    "<br>\n",
    "laplacian算子对噪音更敏感，一般组合使用，不建议单独使用\n",
    "<br>"
   ]
  },
  {
   "cell_type": "code",
   "execution_count": 15,
   "metadata": {},
   "outputs": [],
   "source": [
    "res = np.hstack((sobelxy1,scarrxy,laplacian))\n",
    "cv2_show('res',res)"
   ]
  },
  {
   "cell_type": "markdown",
   "metadata": {},
   "source": [
    "# 边缘检测\n",
    "<br>\n",
    "1、高斯滤波器:进行归一化处理\n",
    "\n",
    "2、计算梯度强度和方向:Sobel算法很简单，相对于其他边缘算子，Sobel算子得出来的边缘粗大明亮。\n",
    "\n",
    "3、非极大值抑制:把梯度方向近似到水平，垂直和两个对角线四个方向，所以每个像素根据自身方向在这四个方向之一进行比较，决定是否保留\n",
    "\n",
    "4、双阈值:梯度值>maxVal则处理为边界,梯度值<minVal则舍弃,minVal<梯度值<maxVal连有边界则保留否则舍弃\n",
    "\n",
    "5、滞后边界跟踪:当弱边缘与强边缘点是在一个联通域中的话，我们会保留这个点。如果一个弱边缘点是孤立的点，那么直接去除该点即可。"
   ]
  },
  {
   "cell_type": "code",
   "execution_count": 17,
   "metadata": {},
   "outputs": [],
   "source": [
    "img = cv2.imread('./images/002.png')\n",
    "\n",
    "v1 = cv2.Canny(img,80,150) #大:边缘信息少，不够细致\n",
    "v2 = cv2.Canny(img,50,100) #小:边缘信息多，更丰富，容易引入噪声\n",
    "\n",
    "res = np.hstack((v1,v2))\n",
    "cv2_show('res',res)"
   ]
  },
  {
   "cell_type": "code",
   "execution_count": null,
   "metadata": {},
   "outputs": [],
   "source": []
  }
 ],
 "metadata": {
  "kernelspec": {
   "display_name": "Python 3",
   "language": "python",
   "name": "python3"
  },
  "language_info": {
   "codemirror_mode": {
    "name": "ipython",
    "version": 3
   },
   "file_extension": ".py",
   "mimetype": "text/x-python",
   "name": "python",
   "nbconvert_exporter": "python",
   "pygments_lexer": "ipython3",
   "version": "3.7.3"
  }
 },
 "nbformat": 4,
 "nbformat_minor": 2
}
