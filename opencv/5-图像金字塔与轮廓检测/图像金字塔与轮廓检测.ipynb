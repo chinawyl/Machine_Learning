{
 "cells": [
  {
   "cell_type": "code",
   "execution_count": 1,
   "metadata": {},
   "outputs": [],
   "source": [
    "import cv2\n",
    "import numpy as np\n",
    "import pandas as pd\n",
    "import matplotlib.pyplot as plt\n",
    "plt.rcParams['font.sans-serif'] = ['SimHei']\n",
    "plt.rcParams['axes.unicode_minus'] = False"
   ]
  },
  {
   "cell_type": "markdown",
   "metadata": {},
   "source": [
    "#    图像金字塔-高斯金字塔\n",
    "<br>"
   ]
  },
  {
   "cell_type": "code",
   "execution_count": 2,
   "metadata": {},
   "outputs": [],
   "source": [
    "#定义展示图像函数\n",
    "def cv2_show(name,img):\n",
    "    cv2.imshow(name,img)\n",
    "    cv2.waitKey(0)\n",
    "    cv2.destroyAllWindows()"
   ]
  },
  {
   "cell_type": "code",
   "execution_count": 3,
   "metadata": {},
   "outputs": [
    {
     "name": "stdout",
     "output_type": "stream",
     "text": [
      "(341, 343, 3)\n"
     ]
    }
   ],
   "source": [
    "#原始图像\n",
    "img = cv2.imread('./images/001.png')\n",
    "cv2_show('img',img)\n",
    "print(img.shape)"
   ]
  },
  {
   "cell_type": "code",
   "execution_count": 4,
   "metadata": {},
   "outputs": [
    {
     "name": "stdout",
     "output_type": "stream",
     "text": [
      "(682, 686, 3)\n"
     ]
    }
   ],
   "source": [
    "#向上采样法（放大）\n",
    "img = cv2.imread('./images/001.png')\n",
    "up = cv2.pyrUp(img)\n",
    "cv2_show('up',up)\n",
    "print(up.shape)"
   ]
  },
  {
   "cell_type": "code",
   "execution_count": 5,
   "metadata": {},
   "outputs": [
    {
     "name": "stdout",
     "output_type": "stream",
     "text": [
      "(1364, 1372, 3)\n"
     ]
    }
   ],
   "source": [
    "#向上采样法（再次放大）\n",
    "img = cv2.imread('./images/001.png')\n",
    "up2 = cv2.pyrUp(up)\n",
    "cv2_show('up2',up2)\n",
    "print(up2.shape)"
   ]
  },
  {
   "cell_type": "code",
   "execution_count": 6,
   "metadata": {},
   "outputs": [
    {
     "name": "stdout",
     "output_type": "stream",
     "text": [
      "(171, 172, 3)\n"
     ]
    }
   ],
   "source": [
    "#向下采样法（缩小）\n",
    "img = cv2.imread('./images/001.png')\n",
    "down = cv2.pyrDown(img)\n",
    "cv2_show('down',down)\n",
    "print(down.shape)"
   ]
  },
  {
   "cell_type": "code",
   "execution_count": 7,
   "metadata": {},
   "outputs": [
    {
     "name": "stdout",
     "output_type": "stream",
     "text": [
      "(86, 86, 3)\n"
     ]
    }
   ],
   "source": [
    "#向下采样法（再次缩小）\n",
    "img = cv2.imread('./images/001.png')\n",
    "down2 = cv2.pyrDown(down)\n",
    "cv2_show('down2',down2)\n",
    "print(down2.shape)"
   ]
  },
  {
   "cell_type": "code",
   "execution_count": 8,
   "metadata": {},
   "outputs": [
    {
     "name": "stdout",
     "output_type": "stream",
     "text": [
      "(341, 343, 3)\n"
     ]
    }
   ],
   "source": [
    "#结合使用，可能清晰，也可能模糊（通常更模糊）\n",
    "img = cv2.imread('./images/001.png')\n",
    "ups = cv2.pyrUp(img)\n",
    "downs = cv2.pyrDown(ups)\n",
    "\n",
    "res = np.hstack((img,downs))\n",
    "cv2_show('res',res)\n",
    "print(downs.shape)"
   ]
  },
  {
   "cell_type": "markdown",
   "metadata": {},
   "source": [
    "# 图像金字塔-拉普拉斯金字塔\n",
    "<br>"
   ]
  },
  {
   "cell_type": "code",
   "execution_count": 9,
   "metadata": {},
   "outputs": [
    {
     "name": "stdout",
     "output_type": "stream",
     "text": [
      "(566, 404, 3)\n"
     ]
    }
   ],
   "source": [
    "img = cv2.imread('./images/002.png')\n",
    "\n",
    "down = cv2.pyrDown(img)\n",
    "down_up = cv2.pyrUp(down)\n",
    "ls = img - down_up\n",
    "\n",
    "cv2_show('ls',ls)\n",
    "print(ls.shape)"
   ]
  },
  {
   "cell_type": "markdown",
   "metadata": {},
   "source": [
    "# 图像轮廓\n",
    "<br>\n",
    "cv2.findContours(img,mode,method)\n",
    "<br>\n",
    "一、img\n",
    "<br>\n",
    "二、mode\n",
    "<br>\n",
    "1.RETR_EXTERNAL表示只检测外轮廓\n",
    "<br>\n",
    "2.RETR_LIST检测的轮廓不建立等级关系\n",
    "<br>\n",
    "3.RETR_CCOMP建立两个等级的轮廓，上面一层为外边界，里面一层为内孔的边界信息。如果内孔内还有一个连通物体，这个物体的边界也在顶层\n",
    "<br>\n",
    "4.RETR_TREE建立一个等级树结构的轮廓\n",
    "<br>\n",
    "三、thod\n",
    "<br>\n",
    "1.CHAIN_APPROX_NONE存储所有的轮廓点，相邻的两个点的像素位置差不超过1，即max（abs（x1-x2），abs（y2-y1））==1\n",
    "<br>\n",
    "2.CHAIN_APPROX_SIMPLE压缩水平方向，垂直方向，对角线方向的元素，只保留该方向的终点坐标，例如一个矩形轮廓只需4个点来保存轮廓信息\n",
    "<br>\n",
    "3.CHAIN_APPROX_TC89_L1，CV_CHAIN_APPROX_TC89_KCOS使用teh-Chinl chain 近似算法\n",
    "<br>"
   ]
  },
  {
   "cell_type": "code",
   "execution_count": 10,
   "metadata": {},
   "outputs": [],
   "source": [
    "#为了更高的准确率，使用二值图像\n",
    "img = cv2.imread('./images/003.png')\n",
    "gray = cv2.cvtColor(img,cv2.COLOR_BGR2GRAY)\n",
    "ret,thresh = cv2.threshold(gray,127,255,cv2.THRESH_BINARY)\n",
    "cv2_show('thresh',thresh)"
   ]
  },
  {
   "cell_type": "code",
   "execution_count": 11,
   "metadata": {},
   "outputs": [],
   "source": [
    "contours, hierarchy = cv2.findContours(thresh,cv2.RETR_TREE,cv2.CHAIN_APPROX_NONE) #contours:轮廓点，hierachy:层级"
   ]
  },
  {
   "cell_type": "code",
   "execution_count": 12,
   "metadata": {},
   "outputs": [],
   "source": [
    "#绘制轮廓\n",
    "draw_img = img.copy()\n",
    "res = cv2.drawContours(draw_img,contours,-1,(0,0,255),2) #-1:所有的轮廓，(0,0,255):BGR即红色，2:线条粗细\n",
    "cv2_show('res',np.hstack((img,res)))"
   ]
  },
  {
   "cell_type": "code",
   "execution_count": 13,
   "metadata": {},
   "outputs": [
    {
     "name": "stdout",
     "output_type": "stream",
     "text": [
      "245225.0\n",
      "2004.0\n"
     ]
    }
   ],
   "source": [
    "#轮廓特征（常用属性）\n",
    "cnt = contours[0] #获取第一个轮廓\n",
    "print(cv2.contourArea(cnt)) #计算面积\n",
    "print(cv2.arcLength(cnt,True)) #计算周长，True表示闭合"
   ]
  },
  {
   "cell_type": "code",
   "execution_count": 14,
   "metadata": {},
   "outputs": [],
   "source": [
    "#轮廓近似（曲线之间找到离端点所连直线最大且小于阈值的直线）\n",
    "img = cv2.imread('./images/004.png')\n",
    "\n",
    "gray = cv2.cvtColor(img,cv2.COLOR_BGR2GRAY)\n",
    "ret,thresh = cv2.threshold(gray,127,255,cv2.THRESH_BINARY)\n",
    "contours, hierarchy = cv2.findContours(thresh,cv2.RETR_TREE,cv2.CHAIN_APPROX_NONE)\n",
    "cnt = contours[10]\n",
    "\n",
    "draw_img = img.copy()\n",
    "res = cv2.drawContours(draw_img,[cnt],-1,(0,0,255),2)\n",
    "cv2_show('res',res)"
   ]
  },
  {
   "cell_type": "code",
   "execution_count": 15,
   "metadata": {},
   "outputs": [],
   "source": [
    "epsilon = 0.1*cv2.arcLength(cnt,True)\n",
    "approx = cv2.approxPolyDP(cnt,epsilon,True)\n",
    "\n",
    "draw_img = img.copy()\n",
    "res = cv2.drawContours(draw_img,[approx],-1,(0,0,255),2)\n",
    "cv2_show('res',res)"
   ]
  },
  {
   "cell_type": "code",
   "execution_count": 16,
   "metadata": {},
   "outputs": [
    {
     "name": "stdout",
     "output_type": "stream",
     "text": [
      "0.2709401709401709\n"
     ]
    }
   ],
   "source": [
    "#边界矩形\n",
    "img = cv2.imread('./images/004.png')\n",
    "\n",
    "gray = cv2.cvtColor(img,cv2.COLOR_BGR2GRAY)\n",
    "ret,thresh = cv2.threshold(gray,127,255,cv2.THRESH_BINARY)\n",
    "contours, hierarchy = cv2.findContours(thresh,cv2.RETR_TREE,cv2.CHAIN_APPROX_NONE)\n",
    "cnt = contours[10]\n",
    "\n",
    "x,y,w,h = cv2.boundingRect(cnt)\n",
    "imgs = cv2.rectangle(img,(x,y),(x+w,y+h),(0,255,0),2)\n",
    "cv2_show('imgs',imgs)\n",
    "print(float(cv2.contourArea(cnt))/float(w*h)) #轮廓面积与边界面积比"
   ]
  },
  {
   "cell_type": "code",
   "execution_count": 17,
   "metadata": {},
   "outputs": [],
   "source": [
    "#外接圆\n",
    "img = cv2.imread('./images/004.png')\n",
    "\n",
    "gray = cv2.cvtColor(img,cv2.COLOR_BGR2GRAY)\n",
    "ret,thresh = cv2.threshold(gray,127,255,cv2.THRESH_BINARY)\n",
    "contours, hierarchy = cv2.findContours(thresh,cv2.RETR_TREE,cv2.CHAIN_APPROX_NONE)\n",
    "cnt = contours[10]\n",
    "\n",
    "x,y,w,h = cv2.boundingRect(cnt)\n",
    "(x,y),radius = cv2.minEnclosingCircle(cnt)\n",
    "center = (int(x),int(y))\n",
    "radius = int(radius)\n",
    "imgs = cv2.circle(img,center,radius,(0,255,0),2)\n",
    "cv2_show('imgs',imgs)"
   ]
  },
  {
   "cell_type": "markdown",
   "metadata": {},
   "source": [
    "# 模板匹配\n",
    "<br>"
   ]
  },
  {
   "cell_type": "code",
   "execution_count": 18,
   "metadata": {},
   "outputs": [
    {
     "data": {
      "text/plain": [
       "'\\nmatchTemplate(img,temple,result,method):\\n参数image:待搜索的图像(大图)\\n参数temple:搜索模板,需要和原图一样的数据类型且尺寸不能大于源图像\\n参数result:比较结果的映射图像,其必须为单通道,32位浮点型图像,如果原图(待搜索图像)尺寸为W*H,而temple尺寸为w*h,则result尺寸一定是\\n    (W-w+1)*(H-h+1)\\n参数method:指定匹配方法,有如下几种:\\n    TM_SQDIFF:平方差匹配法\\n    TM_SQDIFF_NORMED:归一化平方差匹配法\\n    TM_CCORR:相关匹配法\\n    TM_CCORR_NORMED:归一化相关匹配法\\n    TM_CCOEFF:系数匹配法\\n    TM_CCOEFF_NORMED:化相关系数匹配法\\n'"
      ]
     },
     "execution_count": 18,
     "metadata": {},
     "output_type": "execute_result"
    }
   ],
   "source": [
    "\"\"\"\n",
    "matchTemplate(img,temple,result,method):\n",
    "参数image:待搜索的图像(大图)\n",
    "参数temple:搜索模板,需要和原图一样的数据类型且尺寸不能大于源图像\n",
    "参数result:比较结果的映射图像,其必须为单通道,32位浮点型图像,如果原图(待搜索图像)尺寸为W*H,而temple尺寸为w*h,则result尺寸一定是\n",
    "    (W-w+1)*(H-h+1)\n",
    "参数method:指定匹配方法,有如下几种:\n",
    "    TM_SQDIFF:平方差匹配法\n",
    "    TM_SQDIFF_NORMED:归一化平方差匹配法\n",
    "    TM_CCORR:相关匹配法\n",
    "    TM_CCORR_NORMED:归一化相关匹配法\n",
    "    TM_CCOEFF:系数匹配法\n",
    "    TM_CCOEFF_NORMED:化相关系数匹配法\n",
    "\"\"\""
   ]
  },
  {
   "cell_type": "code",
   "execution_count": 30,
   "metadata": {},
   "outputs": [
    {
     "name": "stdout",
     "output_type": "stream",
     "text": [
      "(341, 343)\n",
      "(161, 130)\n",
      "(181, 214)\n"
     ]
    }
   ],
   "source": [
    "img = cv2.imread('./images/001.png',0) \n",
    "template = cv2.imread('./images/005.png',0)\n",
    "th, tw = template.shape[:2]\n",
    "print(img.shape)\n",
    "print(template.shape)\n",
    "\n",
    "res = cv2.matchTemplate(img, template, cv2.TM_CCOEFF)\n",
    "print(res.shape) #341-161+1=181,343-130+1=214\n",
    "\n",
    "min_val, max_val, min_loc, max_loc = cv2.minMaxLoc(res)\n",
    "left_top = max_loc  # 左上角\n",
    "right_bottom = (left_top[0] + th, left_top[1] + tw)  # 右下角\n",
    "cv2.rectangle(img, left_top, right_bottom, 255, 2)  # 画出矩形位置\n",
    "\n",
    "cv2_show('img',img)"
   ]
  },
  {
   "cell_type": "code",
   "execution_count": 42,
   "metadata": {},
   "outputs": [
    {
     "data": {
      "text/plain": [
       "-1"
      ]
     },
     "execution_count": 42,
     "metadata": {},
     "output_type": "execute_result"
    }
   ],
   "source": [
    "#匹配多个对象\n",
    "img_rgb = cv2.imread('./images/006.png')\n",
    "img_gray = cv2.cvtColor(img_rgb,cv2.COLOR_BGR2GRAY)\n",
    "template = cv2.imread('./images/007.png',0)\n",
    "h, w = templates.shape[:2]\n",
    "\n",
    "res = cv2.matchTemplate(img_gray, template, cv2.TM_CCOEFF_NORMED)\n",
    "threshold = 0.8\n",
    "#取出匹配程度大于80%的坐标\n",
    "loc = np.where(res >= threshold)\n",
    "for pt in zip(*loc[::-1]):\n",
    "    bottom_right = (pt[0] + w, pt[1] + h)\n",
    "    cv2.rectangle(img_rgb, pt, bottom_right, (0, 0, 255), 2)\n",
    "cv2.imshow('img_rgb',img_rgb)\n",
    "cv2.waitKey(0)"
   ]
  },
  {
   "cell_type": "code",
   "execution_count": null,
   "metadata": {},
   "outputs": [],
   "source": []
  }
 ],
 "metadata": {
  "kernelspec": {
   "display_name": "Python 3",
   "language": "python",
   "name": "python3"
  },
  "language_info": {
   "codemirror_mode": {
    "name": "ipython",
    "version": 3
   },
   "file_extension": ".py",
   "mimetype": "text/x-python",
   "name": "python",
   "nbconvert_exporter": "python",
   "pygments_lexer": "ipython3",
   "version": "3.7.3"
  }
 },
 "nbformat": 4,
 "nbformat_minor": 2
}
